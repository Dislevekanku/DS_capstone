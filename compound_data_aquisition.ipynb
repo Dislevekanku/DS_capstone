{
 "cells": [
  {
   "cell_type": "markdown",
   "id": "31cfe8f1-082b-4438-b410-333554fdf854",
   "metadata": {},
   "source": [
    "# Part 1. Compound data aquisition from ChEMBL database"
   ]
  },
  {
   "cell_type": "markdown",
   "id": "25825680-b02d-4b8c-8488-4ed4e21553fb",
   "metadata": {},
   "source": [
    "## Introduction"
   ]
  },
  {
   "cell_type": "markdown",
   "id": "85e955af-b58e-4d9d-b8cb-e77b8be5fd0c",
   "metadata": {},
   "source": [
    "In this module, we will explore how to retrieve compound data from the ChEMBL database for a specific molecular target. This data can be utilized for various chemoinformatics tasks such as similarity search, clustering, and machine learning."
   ]
  },
  {
   "cell_type": "markdown",
   "id": "35f62622-c302-4073-9429-f0988d49d5ed",
   "metadata": {},
   "source": [
    "## Background"
   ]
  },
  {
   "cell_type": "markdown",
   "id": "c6efb31c-0b15-4c41-9b8e-0d1fd5cff9b4",
   "metadata": {},
   "source": [
    "ChEMBL is a meticulously curated database housing bioactive molecules exhibiting drug-like properties. Through its web resource client accessible via Python, we can access a plethora of compound activity measures including IC50 (half maximal inhibitory concentration), pIC50 (negative logarithm of the IC50, facilitating comparison of related values), EC50, etc. These measures provide crucial information for developing systems capable of predicting a molecule's likelihood to be a candidate drug."
   ]
  },
  {
   "cell_type": "markdown",
   "id": "d7e7e0ab-b927-4115-94c6-5886615cbf86",
   "metadata": {},
   "source": [
    "## Objective"
   ]
  },
  {
   "cell_type": "markdown",
   "id": "16f50f44-a4aa-4292-b64c-e432027c111f",
   "metadata": {},
   "source": [
    "The primary objective of this module is to obtain compound data from ChEMBL for a specific molecular target  with Uniprod ID P42336 and filter available bioactivity data."
   ]
  },
  {
   "cell_type": "code",
   "execution_count": 9,
   "id": "398ef928-79f1-4c76-a4b8-e1fff3518d52",
   "metadata": {},
   "outputs": [],
   "source": [
    "# import dependencies\n",
    "import pandas as pd\n",
    "import math\n",
    "import rdkit\n",
    "from tqdm.auto import tqdm\n",
    "from chembl_webresource_client.new_client import new_client\n",
    "from pandas import DataFrame\n",
    "import numpy as np\n",
    "from rdkit import Chem\n",
    "from rdkit.Chem import Descriptors, Lipinski, PandasTools\n",
    "import seaborn as sns\n",
    "import matplotlib.pyplot as plt\n",
    "from sklearn.model_selection import train_test_split\n",
    "from sklearn.ensemble import RandomForestRegressor\n",
    "from sklearn.feature_selection import VarianceThreshold\n",
    "from pathlib import Path\n",
    "from zipfile import ZipFile\n",
    "from tempfile import TemporaryDirectory"
   ]
  },
  {
   "cell_type": "code",
   "execution_count": 10,
   "id": "31254d10-d7db-4436-a33f-983e1bce8061",
   "metadata": {},
   "outputs": [],
   "source": [
    "#define local variables\n",
    "HERE = Path(_dh[-1])\n",
    "DATA = HERE / \"data\""
   ]
  },
  {
   "cell_type": "markdown",
   "id": "fa64bcf3-98af-42dd-9cd1-69c440d19776",
   "metadata": {},
   "source": [
    "## Create the resource objects for API access"
   ]
  },
  {
   "cell_type": "code",
   "execution_count": 11,
   "id": "82d2bed7-cf78-4c95-89ca-07b6087b71ba",
   "metadata": {},
   "outputs": [],
   "source": [
    "targets_api = new_client.target\n",
    "compounds_api = new_client.molecule\n",
    "bioactivities_api = new_client.activity"
   ]
  },
  {
   "cell_type": "code",
   "execution_count": 12,
   "id": "328e421e-3b81-4769-bbba-4d20d3b36b62",
   "metadata": {},
   "outputs": [
    {
     "data": {
      "text/plain": [
       "chembl_webresource_client.query_set.QuerySet"
      ]
     },
     "execution_count": 12,
     "metadata": {},
     "output_type": "execute_result"
    }
   ],
   "source": [
    "type(targets_api)  #show the type of the object"
   ]
  },
  {
   "cell_type": "markdown",
   "id": "9034ddf0-42f3-4c64-af8a-059a37ef7c3f",
   "metadata": {},
   "source": [
    "## Molecular target data"
   ]
  },
  {
   "cell_type": "markdown",
   "id": "6dba95fd-0eb3-45b4-9989-81e085256d70",
   "metadata": {},
   "source": [
    "We chose the molecular target with UniProt ID P42336 because it represents the human Phosphatidylinositol 4,5-bisphosphate 3-kinase catalytic subunit alpha isoform, commonly referred to as PIK3CA. PIK3CA is an enzyme belonging to the phosphoinositide-3-kinase (PI3K) family, pivotal in regulating diverse cellular processes such as growth, survival, proliferation, and migration. Comprising 1068 amino acids and with a molecular weight of approximately 124 kDa, PIK3CA can interact with a regulatory subunit known as p85alpha, which modulates its activity and localization. Mutations in PIK3CA are prevalent in various cancers including breast, ovarian, colorectal, and brain cancers, often resulting in increased kinase activity and aberrant signaling, thereby contributing to tumorigenesis. Given its significance in cancer pathogenesis, PIK3CA serves as a promising target for cancer therapy."
   ]
  },
  {
   "cell_type": "code",
   "execution_count": 13,
   "id": "5aa29282-5de3-4a0a-9159-f3d41f787851",
   "metadata": {},
   "outputs": [],
   "source": [
    "uniprot_id = \"P42336\" "
   ]
  },
  {
   "cell_type": "markdown",
   "id": "58640876-91c1-49bd-8926-9b337ddfbf08",
   "metadata": {},
   "source": [
    "## Acquire target data from ChEMBL database"
   ]
  },
  {
   "cell_type": "code",
   "execution_count": 14,
   "id": "75d9f4a1-fbd3-4ce7-bc11-27d92f8a5058",
   "metadata": {},
   "outputs": [
    {
     "name": "stdout",
     "output_type": "stream",
     "text": [
      "The type of the targets is \"<class 'chembl_webresource_client.query_set.QuerySet'>\"\n"
     ]
    }
   ],
   "source": [
    "# Get target information from ChEMBL but restrict it to specified class only\n",
    "targets = targets_api.get(target_components__accession=uniprot_id).only(              ##variable that contains the results of the query\n",
    "    \"target_chembl_id\", \"organism\", \"pref_name\", \"target_type\"\n",
    ")\n",
    "print(f'The type of the targets is \"{type(targets)}\"')"
   ]
  },
  {
   "cell_type": "code",
   "execution_count": 15,
   "id": "6b8d5b90-7512-4043-ac3b-8913abac4f29",
   "metadata": {},
   "outputs": [
    {
     "data": {
      "text/html": [
       "<div>\n",
       "<style scoped>\n",
       "    .dataframe tbody tr th:only-of-type {\n",
       "        vertical-align: middle;\n",
       "    }\n",
       "\n",
       "    .dataframe tbody tr th {\n",
       "        vertical-align: top;\n",
       "    }\n",
       "\n",
       "    .dataframe thead th {\n",
       "        text-align: right;\n",
       "    }\n",
       "</style>\n",
       "<table border=\"1\" class=\"dataframe\">\n",
       "  <thead>\n",
       "    <tr style=\"text-align: right;\">\n",
       "      <th></th>\n",
       "      <th>organism</th>\n",
       "      <th>pref_name</th>\n",
       "      <th>target_chembl_id</th>\n",
       "      <th>target_type</th>\n",
       "    </tr>\n",
       "  </thead>\n",
       "  <tbody>\n",
       "    <tr>\n",
       "      <th>0</th>\n",
       "      <td>Homo sapiens</td>\n",
       "      <td>PI3-kinase p110-alpha subunit</td>\n",
       "      <td>CHEMBL4005</td>\n",
       "      <td>SINGLE PROTEIN</td>\n",
       "    </tr>\n",
       "    <tr>\n",
       "      <th>1</th>\n",
       "      <td>Homo sapiens</td>\n",
       "      <td>PI3-kinase p110-alpha/p85-alpha</td>\n",
       "      <td>CHEMBL2111367</td>\n",
       "      <td>PROTEIN COMPLEX</td>\n",
       "    </tr>\n",
       "    <tr>\n",
       "      <th>2</th>\n",
       "      <td>Homo sapiens</td>\n",
       "      <td>PI3-kinase class I</td>\n",
       "      <td>CHEMBL3559703</td>\n",
       "      <td>PROTEIN COMPLEX GROUP</td>\n",
       "    </tr>\n",
       "    <tr>\n",
       "      <th>3</th>\n",
       "      <td>Homo sapiens</td>\n",
       "      <td>Phosphatidylinositol 4,5-bisphosphate 3-kinase...</td>\n",
       "      <td>CHEMBL3885616</td>\n",
       "      <td>PROTEIN FAMILY</td>\n",
       "    </tr>\n",
       "  </tbody>\n",
       "</table>\n",
       "</div>"
      ],
      "text/plain": [
       "       organism                                          pref_name  \\\n",
       "0  Homo sapiens                      PI3-kinase p110-alpha subunit   \n",
       "1  Homo sapiens                    PI3-kinase p110-alpha/p85-alpha   \n",
       "2  Homo sapiens                                 PI3-kinase class I   \n",
       "3  Homo sapiens  Phosphatidylinositol 4,5-bisphosphate 3-kinase...   \n",
       "\n",
       "  target_chembl_id            target_type  \n",
       "0       CHEMBL4005         SINGLE PROTEIN  \n",
       "1    CHEMBL2111367        PROTEIN COMPLEX  \n",
       "2    CHEMBL3559703  PROTEIN COMPLEX GROUP  \n",
       "3    CHEMBL3885616         PROTEIN FAMILY  "
      ]
     },
     "execution_count": 15,
     "metadata": {},
     "output_type": "execute_result"
    }
   ],
   "source": [
    "# use pandas to convert data to a dataframe\n",
    "targets = pd.DataFrame(targets)\n",
    "targets.head()"
   ]
  },
  {
   "cell_type": "markdown",
   "id": "8918c4da-34cf-4924-82e5-8957a5b6afb3",
   "metadata": {},
   "source": [
    "## Select the target (ChEMBL ID)"
   ]
  },
  {
   "cell_type": "markdown",
   "id": "66b2e985-b04c-4186-adea-563aa37d374b",
   "metadata": {},
   "source": [
    "In this context, considering our research focus on PIK3CA, the target should be \"Phosphatidylinositol 4,5-bisphosphate 3-kinase catalytic subunit alpha\" or \"PI3-kinase p110-alpha subunit\" (represented by target_chembl_id: CHEMBL4005). This specific protein isoform, encoded by the PIK3CA gene, is the primary catalytic subunit of PI3K and plays a central role in various cellular processes, including growth, survival, and proliferation. By selecting this single protein isoform as our target, we can effectively investigate its interactions with ligands and gain insights into potential therapeutic interventions targeting PIK3CA-mediated signaling pathways."
   ]
  },
  {
   "cell_type": "code",
   "execution_count": 24,
   "id": "a4799da8-fb60-459b-b7f1-13f89383ed6e",
   "metadata": {},
   "outputs": [
    {
     "name": "stdout",
     "output_type": "stream",
     "text": [
      "organism                             Homo sapiens\n",
      "pref_name           PI3-kinase p110-alpha subunit\n",
      "target_chembl_id                       CHEMBL4005\n",
      "target_type                        SINGLE PROTEIN\n",
      "Name: 0, dtype: object\n"
     ]
    }
   ],
   "source": [
    "target = targets.iloc[0]\n",
    "print(target)"
   ]
  },
  {
   "cell_type": "markdown",
   "id": "96983f4c-e941-41b8-a4a0-b709b6f714e4",
   "metadata": {},
   "source": [
    "Let's save the target"
   ]
  },
  {
   "cell_type": "code",
   "execution_count": 25,
   "id": "4f021d7e-59c2-49ef-95f9-540a20664eda",
   "metadata": {},
   "outputs": [
    {
     "name": "stdout",
     "output_type": "stream",
     "text": [
      "The target ChEMBL ID is CHEMBL4005\n"
     ]
    }
   ],
   "source": [
    "target_id = target.target_chembl_id\n",
    "print(f\"The target ChEMBL ID is {target_id}\")"
   ]
  },
  {
   "cell_type": "markdown",
   "id": "8b8477e4-fd9a-4d6e-9498-ed63b38c339f",
   "metadata": {},
   "source": [
    "## Retrieve Bioactivity Data for Tested Ligands"
   ]
  },
  {
   "cell_type": "markdown",
   "id": "902622aa-66b1-4319-aca5-e8c5c577a38c",
   "metadata": {},
   "source": [
    "In this crucial step, we acquire bioactivity data relevant to the selected molecular target. By querying the database, we obtain information specifically tailored to human proteins, focusing on IC50 values, which represent the half maximal inhibitory concentration. We filter the data to include only exact measurements (denoted by '='), ensuring accuracy and reliability. Furthermore, we exclusively consider binding-based assays ('B'), which provide insights into the interaction between ligands and the target protein. This meticulous filtering process ensures that the acquired bioactivity data aligns precisely with our research objectives, facilitating robust analysis and interpretation."
   ]
  },
  {
   "cell_type": "code",
   "execution_count": 26,
   "id": "d511f5ff-24ea-4494-b53e-682f7f7eff66",
   "metadata": {},
   "outputs": [
    {
     "name": "stdout",
     "output_type": "stream",
     "text": [
      "Length and type of bioactivities object: 5422, <class 'chembl_webresource_client.query_set.QuerySet'>\n"
     ]
    }
   ],
   "source": [
    "bioactivities = bioactivities_api.filter(\n",
    "    target_chembl_id=target_id, type=\"IC50\", relation=\"=\", assay_type=\"B\"\n",
    ").only(\n",
    "    \"activity_id\",\n",
    "    \"assay_chembl_id\",\n",
    "    \"assay_description\",\n",
    "    \"assay_type\",\n",
    "    \"molecule_chembl_id\",\n",
    "    \"type\",\n",
    "    \"standard_units\",\n",
    "    \"relation\",\n",
    "    \"standard_value\",\n",
    "    \"target_chembl_id\",\n",
    "    \"target_organism\",\n",
    ")\n",
    "\n",
    "print(f\"Length and type of bioactivities object: {len(bioactivities)}, {type(bioactivities)}\")"
   ]
  },
  {
   "cell_type": "code",
   "execution_count": 27,
   "id": "acb4cab8-691a-4e18-b140-a8caba208125",
   "metadata": {},
   "outputs": [
    {
     "name": "stdout",
     "output_type": "stream",
     "text": [
      "Length and type of first element: 13, <class 'dict'>\n"
     ]
    },
    {
     "data": {
      "text/plain": [
       "{'activity_id': 1410288,\n",
       " 'assay_chembl_id': 'CHEMBL829496',\n",
       " 'assay_description': 'Inhibition of Phosphatidylinositol 3-kinase',\n",
       " 'assay_type': 'B',\n",
       " 'molecule_chembl_id': 'CHEMBL435507',\n",
       " 'relation': '=',\n",
       " 'standard_units': 'nM',\n",
       " 'standard_value': '2400.0',\n",
       " 'target_chembl_id': 'CHEMBL4005',\n",
       " 'target_organism': 'Homo sapiens',\n",
       " 'type': 'IC50',\n",
       " 'units': 'uM',\n",
       " 'value': '2.4'}"
      ]
     },
     "execution_count": 27,
     "metadata": {},
     "output_type": "execute_result"
    }
   ],
   "source": [
    "# every element aquired holds some information\n",
    "print(f\"Length and type of first element: {len(bioactivities[0])}, {type(bioactivities[0])}\")\n",
    "bioactivities[0]"
   ]
  },
  {
   "cell_type": "markdown",
   "id": "55c5898e-c0db-4fb1-a8b3-e8f3e436a08b",
   "metadata": {},
   "source": [
    "## Download Bioactivity data from ChEMBL"
   ]
  },
  {
   "cell_type": "code",
   "execution_count": 28,
   "id": "3403d518-966e-4132-8ee4-48767906a2ad",
   "metadata": {},
   "outputs": [
    {
     "name": "stdout",
     "output_type": "stream",
     "text": [
      "DataFrame shape: (5423, 13)\n"
     ]
    },
    {
     "data": {
      "text/html": [
       "<div>\n",
       "<style scoped>\n",
       "    .dataframe tbody tr th:only-of-type {\n",
       "        vertical-align: middle;\n",
       "    }\n",
       "\n",
       "    .dataframe tbody tr th {\n",
       "        vertical-align: top;\n",
       "    }\n",
       "\n",
       "    .dataframe thead th {\n",
       "        text-align: right;\n",
       "    }\n",
       "</style>\n",
       "<table border=\"1\" class=\"dataframe\">\n",
       "  <thead>\n",
       "    <tr style=\"text-align: right;\">\n",
       "      <th></th>\n",
       "      <th>activity_id</th>\n",
       "      <th>assay_chembl_id</th>\n",
       "      <th>assay_description</th>\n",
       "      <th>assay_type</th>\n",
       "      <th>molecule_chembl_id</th>\n",
       "      <th>relation</th>\n",
       "      <th>standard_units</th>\n",
       "      <th>standard_value</th>\n",
       "      <th>target_chembl_id</th>\n",
       "      <th>target_organism</th>\n",
       "      <th>type</th>\n",
       "      <th>units</th>\n",
       "      <th>value</th>\n",
       "    </tr>\n",
       "  </thead>\n",
       "  <tbody>\n",
       "    <tr>\n",
       "      <th>0</th>\n",
       "      <td>1410288</td>\n",
       "      <td>CHEMBL829496</td>\n",
       "      <td>Inhibition of Phosphatidylinositol 3-kinase</td>\n",
       "      <td>B</td>\n",
       "      <td>CHEMBL435507</td>\n",
       "      <td>=</td>\n",
       "      <td>nM</td>\n",
       "      <td>2400.0</td>\n",
       "      <td>CHEMBL4005</td>\n",
       "      <td>Homo sapiens</td>\n",
       "      <td>IC50</td>\n",
       "      <td>uM</td>\n",
       "      <td>2.4</td>\n",
       "    </tr>\n",
       "    <tr>\n",
       "      <th>1</th>\n",
       "      <td>1410288</td>\n",
       "      <td>CHEMBL829496</td>\n",
       "      <td>Inhibition of Phosphatidylinositol 3-kinase</td>\n",
       "      <td>B</td>\n",
       "      <td>CHEMBL435507</td>\n",
       "      <td>=</td>\n",
       "      <td>nM</td>\n",
       "      <td>2400.0</td>\n",
       "      <td>CHEMBL4005</td>\n",
       "      <td>Homo sapiens</td>\n",
       "      <td>IC50</td>\n",
       "      <td>uM</td>\n",
       "      <td>2.4</td>\n",
       "    </tr>\n",
       "    <tr>\n",
       "      <th>2</th>\n",
       "      <td>1412178</td>\n",
       "      <td>CHEMBL830973</td>\n",
       "      <td>Inhibition of human recombinant p110 alpha Pho...</td>\n",
       "      <td>B</td>\n",
       "      <td>CHEMBL98350</td>\n",
       "      <td>=</td>\n",
       "      <td>nM</td>\n",
       "      <td>2300.0</td>\n",
       "      <td>CHEMBL4005</td>\n",
       "      <td>Homo sapiens</td>\n",
       "      <td>IC50</td>\n",
       "      <td>uM</td>\n",
       "      <td>2.3</td>\n",
       "    </tr>\n",
       "    <tr>\n",
       "      <th>3</th>\n",
       "      <td>1412285</td>\n",
       "      <td>CHEMBL829496</td>\n",
       "      <td>Inhibition of Phosphatidylinositol 3-kinase</td>\n",
       "      <td>B</td>\n",
       "      <td>CHEMBL104468</td>\n",
       "      <td>=</td>\n",
       "      <td>nM</td>\n",
       "      <td>13000.0</td>\n",
       "      <td>CHEMBL4005</td>\n",
       "      <td>Homo sapiens</td>\n",
       "      <td>IC50</td>\n",
       "      <td>uM</td>\n",
       "      <td>13.0</td>\n",
       "    </tr>\n",
       "    <tr>\n",
       "      <th>4</th>\n",
       "      <td>1459741</td>\n",
       "      <td>CHEMBL831920</td>\n",
       "      <td>Inhibition of Phosphatidylinositol 3-kinase p1...</td>\n",
       "      <td>B</td>\n",
       "      <td>CHEMBL98350</td>\n",
       "      <td>=</td>\n",
       "      <td>nM</td>\n",
       "      <td>2300.0</td>\n",
       "      <td>CHEMBL4005</td>\n",
       "      <td>Homo sapiens</td>\n",
       "      <td>IC50</td>\n",
       "      <td>uM</td>\n",
       "      <td>2.3</td>\n",
       "    </tr>\n",
       "  </tbody>\n",
       "</table>\n",
       "</div>"
      ],
      "text/plain": [
       "   activity_id assay_chembl_id  \\\n",
       "0      1410288    CHEMBL829496   \n",
       "1      1410288    CHEMBL829496   \n",
       "2      1412178    CHEMBL830973   \n",
       "3      1412285    CHEMBL829496   \n",
       "4      1459741    CHEMBL831920   \n",
       "\n",
       "                                   assay_description assay_type  \\\n",
       "0        Inhibition of Phosphatidylinositol 3-kinase          B   \n",
       "1        Inhibition of Phosphatidylinositol 3-kinase          B   \n",
       "2  Inhibition of human recombinant p110 alpha Pho...          B   \n",
       "3        Inhibition of Phosphatidylinositol 3-kinase          B   \n",
       "4  Inhibition of Phosphatidylinositol 3-kinase p1...          B   \n",
       "\n",
       "  molecule_chembl_id relation standard_units standard_value target_chembl_id  \\\n",
       "0       CHEMBL435507        =             nM         2400.0       CHEMBL4005   \n",
       "1       CHEMBL435507        =             nM         2400.0       CHEMBL4005   \n",
       "2        CHEMBL98350        =             nM         2300.0       CHEMBL4005   \n",
       "3       CHEMBL104468        =             nM        13000.0       CHEMBL4005   \n",
       "4        CHEMBL98350        =             nM         2300.0       CHEMBL4005   \n",
       "\n",
       "  target_organism  type units value  \n",
       "0    Homo sapiens  IC50    uM   2.4  \n",
       "1    Homo sapiens  IC50    uM   2.4  \n",
       "2    Homo sapiens  IC50    uM   2.3  \n",
       "3    Homo sapiens  IC50    uM  13.0  \n",
       "4    Homo sapiens  IC50    uM   2.3  "
      ]
     },
     "execution_count": 28,
     "metadata": {},
     "output_type": "execute_result"
    }
   ],
   "source": [
    "# save obtained information into a pandas dataframe.\n",
    "bioactivities_df = pd.DataFrame.from_records(bioactivities)\n",
    "print(f\"DataFrame shape: {bioactivities_df.shape}\")\n",
    "bioactivities_df.head()"
   ]
  },
  {
   "cell_type": "code",
   "execution_count": 31,
   "id": "57450df6-7bdc-4bcd-aa52-b362437d1b8a",
   "metadata": {},
   "outputs": [
    {
     "data": {
      "text/html": [
       "<div>\n",
       "<style scoped>\n",
       "    .dataframe tbody tr th:only-of-type {\n",
       "        vertical-align: middle;\n",
       "    }\n",
       "\n",
       "    .dataframe tbody tr th {\n",
       "        vertical-align: top;\n",
       "    }\n",
       "\n",
       "    .dataframe thead th {\n",
       "        text-align: right;\n",
       "    }\n",
       "</style>\n",
       "<table border=\"1\" class=\"dataframe\">\n",
       "  <thead>\n",
       "    <tr style=\"text-align: right;\">\n",
       "      <th></th>\n",
       "      <th>activity_id</th>\n",
       "      <th>assay_chembl_id</th>\n",
       "      <th>assay_description</th>\n",
       "      <th>assay_type</th>\n",
       "      <th>molecule_chembl_id</th>\n",
       "      <th>relation</th>\n",
       "      <th>standard_units</th>\n",
       "      <th>standard_value</th>\n",
       "      <th>target_chembl_id</th>\n",
       "      <th>target_organism</th>\n",
       "      <th>type</th>\n",
       "    </tr>\n",
       "  </thead>\n",
       "  <tbody>\n",
       "    <tr>\n",
       "      <th>0</th>\n",
       "      <td>1410288</td>\n",
       "      <td>CHEMBL829496</td>\n",
       "      <td>Inhibition of Phosphatidylinositol 3-kinase</td>\n",
       "      <td>B</td>\n",
       "      <td>CHEMBL435507</td>\n",
       "      <td>=</td>\n",
       "      <td>nM</td>\n",
       "      <td>2400.0</td>\n",
       "      <td>CHEMBL4005</td>\n",
       "      <td>Homo sapiens</td>\n",
       "      <td>IC50</td>\n",
       "    </tr>\n",
       "    <tr>\n",
       "      <th>1</th>\n",
       "      <td>1410288</td>\n",
       "      <td>CHEMBL829496</td>\n",
       "      <td>Inhibition of Phosphatidylinositol 3-kinase</td>\n",
       "      <td>B</td>\n",
       "      <td>CHEMBL435507</td>\n",
       "      <td>=</td>\n",
       "      <td>nM</td>\n",
       "      <td>2400.0</td>\n",
       "      <td>CHEMBL4005</td>\n",
       "      <td>Homo sapiens</td>\n",
       "      <td>IC50</td>\n",
       "    </tr>\n",
       "    <tr>\n",
       "      <th>2</th>\n",
       "      <td>1412178</td>\n",
       "      <td>CHEMBL830973</td>\n",
       "      <td>Inhibition of human recombinant p110 alpha Pho...</td>\n",
       "      <td>B</td>\n",
       "      <td>CHEMBL98350</td>\n",
       "      <td>=</td>\n",
       "      <td>nM</td>\n",
       "      <td>2300.0</td>\n",
       "      <td>CHEMBL4005</td>\n",
       "      <td>Homo sapiens</td>\n",
       "      <td>IC50</td>\n",
       "    </tr>\n",
       "    <tr>\n",
       "      <th>3</th>\n",
       "      <td>1412285</td>\n",
       "      <td>CHEMBL829496</td>\n",
       "      <td>Inhibition of Phosphatidylinositol 3-kinase</td>\n",
       "      <td>B</td>\n",
       "      <td>CHEMBL104468</td>\n",
       "      <td>=</td>\n",
       "      <td>nM</td>\n",
       "      <td>13000.0</td>\n",
       "      <td>CHEMBL4005</td>\n",
       "      <td>Homo sapiens</td>\n",
       "      <td>IC50</td>\n",
       "    </tr>\n",
       "    <tr>\n",
       "      <th>4</th>\n",
       "      <td>1459741</td>\n",
       "      <td>CHEMBL831920</td>\n",
       "      <td>Inhibition of Phosphatidylinositol 3-kinase p1...</td>\n",
       "      <td>B</td>\n",
       "      <td>CHEMBL98350</td>\n",
       "      <td>=</td>\n",
       "      <td>nM</td>\n",
       "      <td>2300.0</td>\n",
       "      <td>CHEMBL4005</td>\n",
       "      <td>Homo sapiens</td>\n",
       "      <td>IC50</td>\n",
       "    </tr>\n",
       "  </tbody>\n",
       "</table>\n",
       "</div>"
      ],
      "text/plain": [
       "   activity_id assay_chembl_id  \\\n",
       "0      1410288    CHEMBL829496   \n",
       "1      1410288    CHEMBL829496   \n",
       "2      1412178    CHEMBL830973   \n",
       "3      1412285    CHEMBL829496   \n",
       "4      1459741    CHEMBL831920   \n",
       "\n",
       "                                   assay_description assay_type  \\\n",
       "0        Inhibition of Phosphatidylinositol 3-kinase          B   \n",
       "1        Inhibition of Phosphatidylinositol 3-kinase          B   \n",
       "2  Inhibition of human recombinant p110 alpha Pho...          B   \n",
       "3        Inhibition of Phosphatidylinositol 3-kinase          B   \n",
       "4  Inhibition of Phosphatidylinositol 3-kinase p1...          B   \n",
       "\n",
       "  molecule_chembl_id relation standard_units standard_value target_chembl_id  \\\n",
       "0       CHEMBL435507        =             nM         2400.0       CHEMBL4005   \n",
       "1       CHEMBL435507        =             nM         2400.0       CHEMBL4005   \n",
       "2        CHEMBL98350        =             nM         2300.0       CHEMBL4005   \n",
       "3       CHEMBL104468        =             nM        13000.0       CHEMBL4005   \n",
       "4        CHEMBL98350        =             nM         2300.0       CHEMBL4005   \n",
       "\n",
       "  target_organism  type  \n",
       "0    Homo sapiens  IC50  \n",
       "1    Homo sapiens  IC50  \n",
       "2    Homo sapiens  IC50  \n",
       "3    Homo sapiens  IC50  \n",
       "4    Homo sapiens  IC50  "
      ]
     },
     "execution_count": 31,
     "metadata": {},
     "output_type": "execute_result"
    }
   ],
   "source": [
    "bioactivities_df.drop([\"units\", \"value\"], axis=1, inplace=True)\n",
    "bioactivities_df.head()"
   ]
  },
  {
   "cell_type": "markdown",
   "id": "5dd12edb-2d36-4595-a7f6-e617cd98e0c1",
   "metadata": {},
   "source": [
    "## Preprocess and filter bioactivity data"
   ]
  },
  {
   "cell_type": "code",
   "execution_count": 33,
   "id": "e6b66cc7-6995-4e72-885b-3b72e7548e23",
   "metadata": {},
   "outputs": [
    {
     "data": {
      "text/plain": [
       "activity_id            int64\n",
       "assay_chembl_id       object\n",
       "assay_description     object\n",
       "assay_type            object\n",
       "molecule_chembl_id    object\n",
       "relation              object\n",
       "standard_units        object\n",
       "standard_value        object\n",
       "target_chembl_id      object\n",
       "target_organism       object\n",
       "type                  object\n",
       "dtype: object"
      ]
     },
     "execution_count": 33,
     "metadata": {},
     "output_type": "execute_result"
    }
   ],
   "source": [
    "bioactivities_df.dtypes"
   ]
  },
  {
   "cell_type": "markdown",
   "id": "fd4d4f10-3787-43a9-86fb-525053aefba2",
   "metadata": {},
   "source": [
    "1. Convert datatype of “standard_value” from “object” to “float”"
   ]
  },
  {
   "cell_type": "code",
   "execution_count": 34,
   "id": "50ef2fbf-b7e6-42a3-bc53-5d728a2a0ab9",
   "metadata": {},
   "outputs": [],
   "source": [
    "bioactivities_df = bioactivities_df.astype({\"standard_value\" : \"float64\"})"
   ]
  },
  {
   "cell_type": "code",
   "execution_count": 35,
   "id": "ae12a677-4900-4ccb-9fd4-698f68835b59",
   "metadata": {},
   "outputs": [
    {
     "data": {
      "text/plain": [
       "activity_id             int64\n",
       "assay_chembl_id        object\n",
       "assay_description      object\n",
       "assay_type             object\n",
       "molecule_chembl_id     object\n",
       "relation               object\n",
       "standard_units         object\n",
       "standard_value        float64\n",
       "target_chembl_id       object\n",
       "target_organism        object\n",
       "type                   object\n",
       "dtype: object"
      ]
     },
     "execution_count": 35,
     "metadata": {},
     "output_type": "execute_result"
    }
   ],
   "source": [
    "bioactivities_df.dtypes"
   ]
  },
  {
   "cell_type": "markdown",
   "id": "58de4685-1100-41c6-96d4-c54563786067",
   "metadata": {},
   "source": [
    "2. Check for missingness"
   ]
  },
  {
   "cell_type": "code",
   "execution_count": 38,
   "id": "83646a8d-483f-4c08-a53d-ea5f877073c3",
   "metadata": {},
   "outputs": [
    {
     "data": {
      "text/plain": [
       "activity_id           0\n",
       "assay_chembl_id       0\n",
       "assay_description     0\n",
       "assay_type            0\n",
       "molecule_chembl_id    0\n",
       "relation              0\n",
       "standard_units        0\n",
       "standard_value        0\n",
       "target_chembl_id      0\n",
       "target_organism       0\n",
       "type                  0\n",
       "dtype: int64"
      ]
     },
     "execution_count": 38,
     "metadata": {},
     "output_type": "execute_result"
    }
   ],
   "source": [
    "bioactivities_df.isna().sum()"
   ]
  },
  {
   "cell_type": "markdown",
   "id": "3e7850b2-901e-4198-bcf8-ed00c1573bff",
   "metadata": {},
   "source": [
    "3. Delete duplicates"
   ]
  },
  {
   "cell_type": "code",
   "execution_count": 40,
   "id": "56264222-4df5-495d-9951-e957c8b062fd",
   "metadata": {},
   "outputs": [
    {
     "name": "stdout",
     "output_type": "stream",
     "text": [
      "DataFrame shape: (4790, 11)\n"
     ]
    }
   ],
   "source": [
    "bioactivities_df.drop_duplicates(\"molecule_chembl_id\", keep=\"first\", inplace=True)\n",
    "print(f\"DataFrame shape: {bioactivities_df.shape}\")"
   ]
  },
  {
   "cell_type": "code",
   "execution_count": 41,
   "id": "d1b55aea-b449-492b-81d6-38a8e6cb6f80",
   "metadata": {},
   "outputs": [
    {
     "data": {
      "text/html": [
       "<div>\n",
       "<style scoped>\n",
       "    .dataframe tbody tr th:only-of-type {\n",
       "        vertical-align: middle;\n",
       "    }\n",
       "\n",
       "    .dataframe tbody tr th {\n",
       "        vertical-align: top;\n",
       "    }\n",
       "\n",
       "    .dataframe thead th {\n",
       "        text-align: right;\n",
       "    }\n",
       "</style>\n",
       "<table border=\"1\" class=\"dataframe\">\n",
       "  <thead>\n",
       "    <tr style=\"text-align: right;\">\n",
       "      <th></th>\n",
       "      <th>activity_id</th>\n",
       "      <th>assay_chembl_id</th>\n",
       "      <th>assay_description</th>\n",
       "      <th>assay_type</th>\n",
       "      <th>molecule_chembl_id</th>\n",
       "      <th>relation</th>\n",
       "      <th>standard_units</th>\n",
       "      <th>standard_value</th>\n",
       "      <th>target_chembl_id</th>\n",
       "      <th>target_organism</th>\n",
       "      <th>type</th>\n",
       "    </tr>\n",
       "  </thead>\n",
       "  <tbody>\n",
       "    <tr>\n",
       "      <th>0</th>\n",
       "      <td>1410288</td>\n",
       "      <td>CHEMBL829496</td>\n",
       "      <td>Inhibition of Phosphatidylinositol 3-kinase</td>\n",
       "      <td>B</td>\n",
       "      <td>CHEMBL435507</td>\n",
       "      <td>=</td>\n",
       "      <td>nM</td>\n",
       "      <td>2400.0</td>\n",
       "      <td>CHEMBL4005</td>\n",
       "      <td>Homo sapiens</td>\n",
       "      <td>IC50</td>\n",
       "    </tr>\n",
       "    <tr>\n",
       "      <th>1</th>\n",
       "      <td>1412178</td>\n",
       "      <td>CHEMBL830973</td>\n",
       "      <td>Inhibition of human recombinant p110 alpha Pho...</td>\n",
       "      <td>B</td>\n",
       "      <td>CHEMBL98350</td>\n",
       "      <td>=</td>\n",
       "      <td>nM</td>\n",
       "      <td>2300.0</td>\n",
       "      <td>CHEMBL4005</td>\n",
       "      <td>Homo sapiens</td>\n",
       "      <td>IC50</td>\n",
       "    </tr>\n",
       "    <tr>\n",
       "      <th>2</th>\n",
       "      <td>1412285</td>\n",
       "      <td>CHEMBL829496</td>\n",
       "      <td>Inhibition of Phosphatidylinositol 3-kinase</td>\n",
       "      <td>B</td>\n",
       "      <td>CHEMBL104468</td>\n",
       "      <td>=</td>\n",
       "      <td>nM</td>\n",
       "      <td>13000.0</td>\n",
       "      <td>CHEMBL4005</td>\n",
       "      <td>Homo sapiens</td>\n",
       "      <td>IC50</td>\n",
       "    </tr>\n",
       "    <tr>\n",
       "      <th>3</th>\n",
       "      <td>1472257</td>\n",
       "      <td>CHEMBL831920</td>\n",
       "      <td>Inhibition of Phosphatidylinositol 3-kinase p1...</td>\n",
       "      <td>B</td>\n",
       "      <td>CHEMBL188678</td>\n",
       "      <td>=</td>\n",
       "      <td>nM</td>\n",
       "      <td>5000.0</td>\n",
       "      <td>CHEMBL4005</td>\n",
       "      <td>Homo sapiens</td>\n",
       "      <td>IC50</td>\n",
       "    </tr>\n",
       "    <tr>\n",
       "      <th>4</th>\n",
       "      <td>1734324</td>\n",
       "      <td>CHEMBL871583</td>\n",
       "      <td>Inhibition of human PI3Kalpha</td>\n",
       "      <td>B</td>\n",
       "      <td>CHEMBL379156</td>\n",
       "      <td>=</td>\n",
       "      <td>nM</td>\n",
       "      <td>940.0</td>\n",
       "      <td>CHEMBL4005</td>\n",
       "      <td>Homo sapiens</td>\n",
       "      <td>IC50</td>\n",
       "    </tr>\n",
       "  </tbody>\n",
       "</table>\n",
       "</div>"
      ],
      "text/plain": [
       "   activity_id assay_chembl_id  \\\n",
       "0      1410288    CHEMBL829496   \n",
       "1      1412178    CHEMBL830973   \n",
       "2      1412285    CHEMBL829496   \n",
       "3      1472257    CHEMBL831920   \n",
       "4      1734324    CHEMBL871583   \n",
       "\n",
       "                                   assay_description assay_type  \\\n",
       "0        Inhibition of Phosphatidylinositol 3-kinase          B   \n",
       "1  Inhibition of human recombinant p110 alpha Pho...          B   \n",
       "2        Inhibition of Phosphatidylinositol 3-kinase          B   \n",
       "3  Inhibition of Phosphatidylinositol 3-kinase p1...          B   \n",
       "4                      Inhibition of human PI3Kalpha          B   \n",
       "\n",
       "  molecule_chembl_id relation standard_units  standard_value target_chembl_id  \\\n",
       "0       CHEMBL435507        =             nM          2400.0       CHEMBL4005   \n",
       "1        CHEMBL98350        =             nM          2300.0       CHEMBL4005   \n",
       "2       CHEMBL104468        =             nM         13000.0       CHEMBL4005   \n",
       "3       CHEMBL188678        =             nM          5000.0       CHEMBL4005   \n",
       "4       CHEMBL379156        =             nM           940.0       CHEMBL4005   \n",
       "\n",
       "  target_organism  type  \n",
       "0    Homo sapiens  IC50  \n",
       "1    Homo sapiens  IC50  \n",
       "2    Homo sapiens  IC50  \n",
       "3    Homo sapiens  IC50  \n",
       "4    Homo sapiens  IC50  "
      ]
     },
     "execution_count": 41,
     "metadata": {},
     "output_type": "execute_result"
    }
   ],
   "source": [
    "bioactivities_df.reset_index(drop=True, inplace=True)\n",
    "bioactivities_df.head()\n"
   ]
  },
  {
   "cell_type": "markdown",
   "id": "e5fd9e29-45ae-4d26-99c9-a930a52cc9d9",
   "metadata": {},
   "source": [
    "4. Rename Columns"
   ]
  },
  {
   "cell_type": "code",
   "execution_count": 42,
   "id": "8e4a784b-72dc-42e1-9e20-56bb31254ccf",
   "metadata": {},
   "outputs": [
    {
     "data": {
      "text/html": [
       "<div>\n",
       "<style scoped>\n",
       "    .dataframe tbody tr th:only-of-type {\n",
       "        vertical-align: middle;\n",
       "    }\n",
       "\n",
       "    .dataframe tbody tr th {\n",
       "        vertical-align: top;\n",
       "    }\n",
       "\n",
       "    .dataframe thead th {\n",
       "        text-align: right;\n",
       "    }\n",
       "</style>\n",
       "<table border=\"1\" class=\"dataframe\">\n",
       "  <thead>\n",
       "    <tr style=\"text-align: right;\">\n",
       "      <th></th>\n",
       "      <th>activity_id</th>\n",
       "      <th>assay_chembl_id</th>\n",
       "      <th>assay_description</th>\n",
       "      <th>assay_type</th>\n",
       "      <th>molecule_chembl_id</th>\n",
       "      <th>relation</th>\n",
       "      <th>units</th>\n",
       "      <th>IC50</th>\n",
       "      <th>target_chembl_id</th>\n",
       "      <th>target_organism</th>\n",
       "      <th>type</th>\n",
       "    </tr>\n",
       "  </thead>\n",
       "  <tbody>\n",
       "    <tr>\n",
       "      <th>0</th>\n",
       "      <td>1410288</td>\n",
       "      <td>CHEMBL829496</td>\n",
       "      <td>Inhibition of Phosphatidylinositol 3-kinase</td>\n",
       "      <td>B</td>\n",
       "      <td>CHEMBL435507</td>\n",
       "      <td>=</td>\n",
       "      <td>nM</td>\n",
       "      <td>2400.0</td>\n",
       "      <td>CHEMBL4005</td>\n",
       "      <td>Homo sapiens</td>\n",
       "      <td>IC50</td>\n",
       "    </tr>\n",
       "    <tr>\n",
       "      <th>1</th>\n",
       "      <td>1412178</td>\n",
       "      <td>CHEMBL830973</td>\n",
       "      <td>Inhibition of human recombinant p110 alpha Pho...</td>\n",
       "      <td>B</td>\n",
       "      <td>CHEMBL98350</td>\n",
       "      <td>=</td>\n",
       "      <td>nM</td>\n",
       "      <td>2300.0</td>\n",
       "      <td>CHEMBL4005</td>\n",
       "      <td>Homo sapiens</td>\n",
       "      <td>IC50</td>\n",
       "    </tr>\n",
       "    <tr>\n",
       "      <th>2</th>\n",
       "      <td>1412285</td>\n",
       "      <td>CHEMBL829496</td>\n",
       "      <td>Inhibition of Phosphatidylinositol 3-kinase</td>\n",
       "      <td>B</td>\n",
       "      <td>CHEMBL104468</td>\n",
       "      <td>=</td>\n",
       "      <td>nM</td>\n",
       "      <td>13000.0</td>\n",
       "      <td>CHEMBL4005</td>\n",
       "      <td>Homo sapiens</td>\n",
       "      <td>IC50</td>\n",
       "    </tr>\n",
       "    <tr>\n",
       "      <th>3</th>\n",
       "      <td>1472257</td>\n",
       "      <td>CHEMBL831920</td>\n",
       "      <td>Inhibition of Phosphatidylinositol 3-kinase p1...</td>\n",
       "      <td>B</td>\n",
       "      <td>CHEMBL188678</td>\n",
       "      <td>=</td>\n",
       "      <td>nM</td>\n",
       "      <td>5000.0</td>\n",
       "      <td>CHEMBL4005</td>\n",
       "      <td>Homo sapiens</td>\n",
       "      <td>IC50</td>\n",
       "    </tr>\n",
       "    <tr>\n",
       "      <th>4</th>\n",
       "      <td>1734324</td>\n",
       "      <td>CHEMBL871583</td>\n",
       "      <td>Inhibition of human PI3Kalpha</td>\n",
       "      <td>B</td>\n",
       "      <td>CHEMBL379156</td>\n",
       "      <td>=</td>\n",
       "      <td>nM</td>\n",
       "      <td>940.0</td>\n",
       "      <td>CHEMBL4005</td>\n",
       "      <td>Homo sapiens</td>\n",
       "      <td>IC50</td>\n",
       "    </tr>\n",
       "  </tbody>\n",
       "</table>\n",
       "</div>"
      ],
      "text/plain": [
       "   activity_id assay_chembl_id  \\\n",
       "0      1410288    CHEMBL829496   \n",
       "1      1412178    CHEMBL830973   \n",
       "2      1412285    CHEMBL829496   \n",
       "3      1472257    CHEMBL831920   \n",
       "4      1734324    CHEMBL871583   \n",
       "\n",
       "                                   assay_description assay_type  \\\n",
       "0        Inhibition of Phosphatidylinositol 3-kinase          B   \n",
       "1  Inhibition of human recombinant p110 alpha Pho...          B   \n",
       "2        Inhibition of Phosphatidylinositol 3-kinase          B   \n",
       "3  Inhibition of Phosphatidylinositol 3-kinase p1...          B   \n",
       "4                      Inhibition of human PI3Kalpha          B   \n",
       "\n",
       "  molecule_chembl_id relation units     IC50 target_chembl_id target_organism  \\\n",
       "0       CHEMBL435507        =    nM   2400.0       CHEMBL4005    Homo sapiens   \n",
       "1        CHEMBL98350        =    nM   2300.0       CHEMBL4005    Homo sapiens   \n",
       "2       CHEMBL104468        =    nM  13000.0       CHEMBL4005    Homo sapiens   \n",
       "3       CHEMBL188678        =    nM   5000.0       CHEMBL4005    Homo sapiens   \n",
       "4       CHEMBL379156        =    nM    940.0       CHEMBL4005    Homo sapiens   \n",
       "\n",
       "   type  \n",
       "0  IC50  \n",
       "1  IC50  \n",
       "2  IC50  \n",
       "3  IC50  \n",
       "4  IC50  "
      ]
     },
     "execution_count": 42,
     "metadata": {},
     "output_type": "execute_result"
    }
   ],
   "source": [
    "bioactivities_df.rename(\n",
    "    columns={\"standard_value\": \"IC50\", \"standard_units\": \"units\"}, inplace=True\n",
    ")\n",
    "bioactivities_df.head()"
   ]
  },
  {
   "cell_type": "markdown",
   "id": "6056ecdc-ce0c-400a-9312-f55ac4570456",
   "metadata": {},
   "source": [
    "## Fetch Compound Data (Molecular Structures) from ChEMBL"
   ]
  },
  {
   "cell_type": "markdown",
   "id": "9037d0bf-3271-4dbc-9962-1978ddef52dc",
   "metadata": {},
   "source": [
    "In this part, we proceed to acquire molecular structure data of compounds from the ChEMBL database. These compounds are of particular interest due to their interactions with our target protein, PIK3CA. By accessing the ChEMBL database, we retrieve comprehensive information regarding the chemical structures of these compounds, which is crucial for further analysis and interpretation. Molecular structure data, often represented in the form of canonical SMILES (Simplified Molecular Input Line Entry System), provides insights into the chemical composition and configuration of each compound. This data serves as the foundation for various computational and chemoinformatics analyses, including ligand-based drug design, virtual screening, and structure-activity relationship (SAR) studies. By fetching compound data from ChEMBL, we ensure access to a diverse and relevant set of compounds for our research on PIK3CA-targeted drug discovery and development."
   ]
  },
  {
   "cell_type": "code",
   "execution_count": 43,
   "id": "9f0380ba-e9b4-4435-8ed7-3d748a7fe89d",
   "metadata": {},
   "outputs": [],
   "source": [
    "compounds_provider = compounds_api.filter(\n",
    "    molecule_chembl_id__in=list(bioactivities_df[\"molecule_chembl_id\"])\n",
    ").only(\"molecule_chembl_id\", \"molecule_structures\")"
   ]
  },
  {
   "cell_type": "code",
   "execution_count": 44,
   "id": "9318f29e-70a7-4bb7-a5ff-fefdbe374def",
   "metadata": {},
   "outputs": [
    {
     "data": {
      "application/vnd.jupyter.widget-view+json": {
       "model_id": "63173581fd0b49f28abc0f494c5367ab",
       "version_major": 2,
       "version_minor": 0
      },
      "text/plain": [
       "  0%|          | 0/4790 [00:00<?, ?it/s]"
      ]
     },
     "metadata": {},
     "output_type": "display_data"
    }
   ],
   "source": [
    "compounds = list(tqdm(compounds_provider))"
   ]
  },
  {
   "cell_type": "code",
   "execution_count": 45,
   "id": "362f735b-076d-401e-8430-58630ae5f3af",
   "metadata": {},
   "outputs": [
    {
     "name": "stdout",
     "output_type": "stream",
     "text": [
      "DataFrame shape: (4790, 2)\n"
     ]
    }
   ],
   "source": [
    "compounds_df = pd.DataFrame.from_records(\n",
    "    compounds,\n",
    ")\n",
    "print(f\"DataFrame shape: {compounds_df.shape}\")"
   ]
  },
  {
   "cell_type": "code",
   "execution_count": 46,
   "id": "c1e0b628-2327-4b6a-a6e5-8beed9eda724",
   "metadata": {},
   "outputs": [
    {
     "data": {
      "text/html": [
       "<div>\n",
       "<style scoped>\n",
       "    .dataframe tbody tr th:only-of-type {\n",
       "        vertical-align: middle;\n",
       "    }\n",
       "\n",
       "    .dataframe tbody tr th {\n",
       "        vertical-align: top;\n",
       "    }\n",
       "\n",
       "    .dataframe thead th {\n",
       "        text-align: right;\n",
       "    }\n",
       "</style>\n",
       "<table border=\"1\" class=\"dataframe\">\n",
       "  <thead>\n",
       "    <tr style=\"text-align: right;\">\n",
       "      <th></th>\n",
       "      <th>molecule_chembl_id</th>\n",
       "      <th>molecule_structures</th>\n",
       "    </tr>\n",
       "  </thead>\n",
       "  <tbody>\n",
       "    <tr>\n",
       "      <th>0</th>\n",
       "      <td>CHEMBL428496</td>\n",
       "      <td>{'canonical_smiles': 'COC[C@H]1OC(=O)c2coc3c2[...</td>\n",
       "    </tr>\n",
       "    <tr>\n",
       "      <th>1</th>\n",
       "      <td>CHEMBL273832</td>\n",
       "      <td>{'canonical_smiles': 'COC[C@H]1OC(=O)c2coc3c2[...</td>\n",
       "    </tr>\n",
       "    <tr>\n",
       "      <th>2</th>\n",
       "      <td>CHEMBL535</td>\n",
       "      <td>{'canonical_smiles': 'CCN(CC)CCNC(=O)c1c(C)[nH...</td>\n",
       "    </tr>\n",
       "    <tr>\n",
       "      <th>3</th>\n",
       "      <td>CHEMBL113</td>\n",
       "      <td>{'canonical_smiles': 'Cn1c(=O)c2c(ncn2C)n(C)c1...</td>\n",
       "    </tr>\n",
       "    <tr>\n",
       "      <th>4</th>\n",
       "      <td>CHEMBL16687</td>\n",
       "      <td>{'canonical_smiles': 'Nc1nc2ccc(Cl)cc2c2nc(-c3...</td>\n",
       "    </tr>\n",
       "  </tbody>\n",
       "</table>\n",
       "</div>"
      ],
      "text/plain": [
       "  molecule_chembl_id                                molecule_structures\n",
       "0       CHEMBL428496  {'canonical_smiles': 'COC[C@H]1OC(=O)c2coc3c2[...\n",
       "1       CHEMBL273832  {'canonical_smiles': 'COC[C@H]1OC(=O)c2coc3c2[...\n",
       "2          CHEMBL535  {'canonical_smiles': 'CCN(CC)CCNC(=O)c1c(C)[nH...\n",
       "3          CHEMBL113  {'canonical_smiles': 'Cn1c(=O)c2c(ncn2C)n(C)c1...\n",
       "4        CHEMBL16687  {'canonical_smiles': 'Nc1nc2ccc(Cl)cc2c2nc(-c3..."
      ]
     },
     "execution_count": 46,
     "metadata": {},
     "output_type": "execute_result"
    }
   ],
   "source": [
    "compounds_df.head()"
   ]
  },
  {
   "cell_type": "markdown",
   "id": "d0b1b615-f575-4677-96ef-e98e7addefbd",
   "metadata": {},
   "source": [
    "## Preprocess and filter compound data"
   ]
  },
  {
   "cell_type": "markdown",
   "id": "1fc006c9-229c-4d31-a485-6f8fdd5e7ba6",
   "metadata": {},
   "source": [
    "1. check for missing rows"
   ]
  },
  {
   "cell_type": "code",
   "execution_count": 48,
   "id": "670b6eae-c6fd-4508-9ac5-c95f0715c5ad",
   "metadata": {},
   "outputs": [
    {
     "data": {
      "text/plain": [
       "molecule_chembl_id     0\n",
       "molecule_structures    0\n",
       "dtype: int64"
      ]
     },
     "execution_count": 48,
     "metadata": {},
     "output_type": "execute_result"
    }
   ],
   "source": [
    "compounds_df.isna().sum()"
   ]
  },
  {
   "cell_type": "markdown",
   "id": "0a81f3a6-ab8a-40c3-91e2-ec368d5f0ebd",
   "metadata": {},
   "source": [
    "2. Get molecules with canonical SMILES"
   ]
  },
  {
   "cell_type": "code",
   "execution_count": 49,
   "id": "4fd1ef39-62c0-4cd9-8abe-f46db0e0f630",
   "metadata": {},
   "outputs": [
    {
     "data": {
      "text/plain": [
       "dict_keys(['canonical_smiles', 'molfile', 'standard_inchi', 'standard_inchi_key'])"
      ]
     },
     "execution_count": 49,
     "metadata": {},
     "output_type": "execute_result"
    }
   ],
   "source": [
    "compounds_df.iloc[0].molecule_structures.keys()"
   ]
  },
  {
   "cell_type": "code",
   "execution_count": 50,
   "id": "b7ffa179-0e84-43b6-9130-40d248d7e346",
   "metadata": {},
   "outputs": [
    {
     "data": {
      "text/html": [
       "<div>\n",
       "<style scoped>\n",
       "    .dataframe tbody tr th:only-of-type {\n",
       "        vertical-align: middle;\n",
       "    }\n",
       "\n",
       "    .dataframe tbody tr th {\n",
       "        vertical-align: top;\n",
       "    }\n",
       "\n",
       "    .dataframe thead th {\n",
       "        text-align: right;\n",
       "    }\n",
       "</style>\n",
       "<table border=\"1\" class=\"dataframe\">\n",
       "  <thead>\n",
       "    <tr style=\"text-align: right;\">\n",
       "      <th></th>\n",
       "      <th>molecule_chembl_id</th>\n",
       "      <th>smiles</th>\n",
       "    </tr>\n",
       "  </thead>\n",
       "  <tbody>\n",
       "    <tr>\n",
       "      <th>0</th>\n",
       "      <td>CHEMBL428496</td>\n",
       "      <td>COC[C@H]1OC(=O)c2coc3c2[C@@]1(C)C1=C(C3=O)[C@@...</td>\n",
       "    </tr>\n",
       "    <tr>\n",
       "      <th>1</th>\n",
       "      <td>CHEMBL273832</td>\n",
       "      <td>COC[C@H]1OC(=O)c2coc3c2[C@@]1(C)C1=C(C3=O)[C@@...</td>\n",
       "    </tr>\n",
       "    <tr>\n",
       "      <th>2</th>\n",
       "      <td>CHEMBL535</td>\n",
       "      <td>CCN(CC)CCNC(=O)c1c(C)[nH]c(/C=C2\\C(=O)Nc3ccc(F...</td>\n",
       "    </tr>\n",
       "    <tr>\n",
       "      <th>3</th>\n",
       "      <td>CHEMBL113</td>\n",
       "      <td>Cn1c(=O)c2c(ncn2C)n(C)c1=O</td>\n",
       "    </tr>\n",
       "    <tr>\n",
       "      <th>4</th>\n",
       "      <td>CHEMBL16687</td>\n",
       "      <td>Nc1nc2ccc(Cl)cc2c2nc(-c3ccco3)nn12</td>\n",
       "    </tr>\n",
       "  </tbody>\n",
       "</table>\n",
       "</div>"
      ],
      "text/plain": [
       "  molecule_chembl_id                                             smiles\n",
       "0       CHEMBL428496  COC[C@H]1OC(=O)c2coc3c2[C@@]1(C)C1=C(C3=O)[C@@...\n",
       "1       CHEMBL273832  COC[C@H]1OC(=O)c2coc3c2[C@@]1(C)C1=C(C3=O)[C@@...\n",
       "2          CHEMBL535  CCN(CC)CCNC(=O)c1c(C)[nH]c(/C=C2\\C(=O)Nc3ccc(F...\n",
       "3          CHEMBL113                         Cn1c(=O)c2c(ncn2C)n(C)c1=O\n",
       "4        CHEMBL16687                 Nc1nc2ccc(Cl)cc2c2nc(-c3ccco3)nn12"
      ]
     },
     "execution_count": 50,
     "metadata": {},
     "output_type": "execute_result"
    }
   ],
   "source": [
    "canonical_smiles = []\n",
    "\n",
    "for i, compounds in compounds_df.iterrows():\n",
    "    try:\n",
    "        canonical_smiles.append(compounds[\"molecule_structures\"][\"canonical_smiles\"])\n",
    "    except KeyError:\n",
    "        canonical_smiles.append(None)\n",
    "\n",
    "compounds_df[\"smiles\"] = canonical_smiles\n",
    "compounds_df.drop(\"molecule_structures\", axis=1, inplace=True)\n",
    "compounds_df.head()"
   ]
  },
  {
   "cell_type": "markdown",
   "id": "218852cd-6b9b-44a0-8884-3f87a05c3351",
   "metadata": {},
   "source": [
    "Summary of compound and bioactivity data"
   ]
  },
  {
   "cell_type": "code",
   "execution_count": 53,
   "id": "cd290a7e-0d4b-4ac4-9558-c20d8d4969b4",
   "metadata": {},
   "outputs": [
    {
     "name": "stdout",
     "output_type": "stream",
     "text": [
      "Bioactivities: 4790\n"
     ]
    },
    {
     "data": {
      "text/plain": [
       "Index(['activity_id', 'assay_chembl_id', 'assay_description', 'assay_type',\n",
       "       'molecule_chembl_id', 'relation', 'units', 'IC50', 'target_chembl_id',\n",
       "       'target_organism', 'type'],\n",
       "      dtype='object')"
      ]
     },
     "execution_count": 53,
     "metadata": {},
     "output_type": "execute_result"
    }
   ],
   "source": [
    "print(f\"Bioactivities: {bioactivities_df.shape[0]}\")\n",
    "bioactivities_df.columns"
   ]
  },
  {
   "cell_type": "code",
   "execution_count": 52,
   "id": "f6090797-3d28-4dde-9643-7e544c3eab5f",
   "metadata": {},
   "outputs": [
    {
     "name": "stdout",
     "output_type": "stream",
     "text": [
      "Compounds: 4790\n"
     ]
    },
    {
     "data": {
      "text/plain": [
       "Index(['molecule_chembl_id', 'smiles'], dtype='object')"
      ]
     },
     "execution_count": 52,
     "metadata": {},
     "output_type": "execute_result"
    }
   ],
   "source": [
    "print(f\"Compounds: {compounds_df.shape[0]}\")\n",
    "compounds_df.columns"
   ]
  },
  {
   "cell_type": "markdown",
   "id": "499dadb5-6834-43d9-8b0b-a6fbf63f68cf",
   "metadata": {},
   "source": [
    "## Merge both datasets"
   ]
  },
  {
   "cell_type": "code",
   "execution_count": 55,
   "id": "a42c86af-6cf4-4542-8f49-373891884544",
   "metadata": {},
   "outputs": [
    {
     "data": {
      "text/html": [
       "<div>\n",
       "<style scoped>\n",
       "    .dataframe tbody tr th:only-of-type {\n",
       "        vertical-align: middle;\n",
       "    }\n",
       "\n",
       "    .dataframe tbody tr th {\n",
       "        vertical-align: top;\n",
       "    }\n",
       "\n",
       "    .dataframe thead th {\n",
       "        text-align: right;\n",
       "    }\n",
       "</style>\n",
       "<table border=\"1\" class=\"dataframe\">\n",
       "  <thead>\n",
       "    <tr style=\"text-align: right;\">\n",
       "      <th></th>\n",
       "      <th>molecule_chembl_id</th>\n",
       "      <th>IC50</th>\n",
       "      <th>units</th>\n",
       "      <th>smiles</th>\n",
       "    </tr>\n",
       "  </thead>\n",
       "  <tbody>\n",
       "    <tr>\n",
       "      <th>0</th>\n",
       "      <td>CHEMBL435507</td>\n",
       "      <td>2400.0</td>\n",
       "      <td>nM</td>\n",
       "      <td>CC1CN(c2cc(=O)c3ccc4ccccc4c3o2)CCO1</td>\n",
       "    </tr>\n",
       "    <tr>\n",
       "      <th>1</th>\n",
       "      <td>CHEMBL98350</td>\n",
       "      <td>2300.0</td>\n",
       "      <td>nM</td>\n",
       "      <td>O=c1cc(N2CCOCC2)oc2c(-c3ccccc3)cccc12</td>\n",
       "    </tr>\n",
       "    <tr>\n",
       "      <th>2</th>\n",
       "      <td>CHEMBL104468</td>\n",
       "      <td>13000.0</td>\n",
       "      <td>nM</td>\n",
       "      <td>O=c1cc(N2CCOCC2)oc2c1ccc1ccccc12</td>\n",
       "    </tr>\n",
       "    <tr>\n",
       "      <th>3</th>\n",
       "      <td>CHEMBL188678</td>\n",
       "      <td>5000.0</td>\n",
       "      <td>nM</td>\n",
       "      <td>O=c1cc(N2CCOCC2)oc2c(-c3cccc4c3sc3ccccc34)cccc12</td>\n",
       "    </tr>\n",
       "    <tr>\n",
       "      <th>4</th>\n",
       "      <td>CHEMBL379156</td>\n",
       "      <td>940.0</td>\n",
       "      <td>nM</td>\n",
       "      <td>O=C1NC(=O)/C(=C/c2ccc(-c3ccc(F)cc3O)o2)S1</td>\n",
       "    </tr>\n",
       "    <tr>\n",
       "      <th>5</th>\n",
       "      <td>CHEMBL428496</td>\n",
       "      <td>1.0</td>\n",
       "      <td>nM</td>\n",
       "      <td>COC[C@H]1OC(=O)c2coc3c2[C@@]1(C)C1=C(C3=O)[C@@...</td>\n",
       "    </tr>\n",
       "    <tr>\n",
       "      <th>6</th>\n",
       "      <td>CHEMBL437688</td>\n",
       "      <td>600.0</td>\n",
       "      <td>nM</td>\n",
       "      <td>O=C1NC(=S)S/C1=C\\c1ccc(-c2cc([N+](=O)[O-])ccc2...</td>\n",
       "    </tr>\n",
       "    <tr>\n",
       "      <th>7</th>\n",
       "      <td>CHEMBL209159</td>\n",
       "      <td>340.0</td>\n",
       "      <td>nM</td>\n",
       "      <td>O=C1NC(=O)/C(=C/c2ccc(-c3cc(F)cc(F)c3O)s2)S1</td>\n",
       "    </tr>\n",
       "    <tr>\n",
       "      <th>8</th>\n",
       "      <td>CHEMBL211068</td>\n",
       "      <td>1000.0</td>\n",
       "      <td>nM</td>\n",
       "      <td>O=C1NC(=O)/C(=C/c2ccc(-c3ccc(O)cc3F)o2)S1</td>\n",
       "    </tr>\n",
       "    <tr>\n",
       "      <th>9</th>\n",
       "      <td>CHEMBL208696</td>\n",
       "      <td>1350.0</td>\n",
       "      <td>nM</td>\n",
       "      <td>O=C1NC(=O)/C(=C/c2ccc(-c3cc(C(=O)O)ccc3O)o2)S1</td>\n",
       "    </tr>\n",
       "  </tbody>\n",
       "</table>\n",
       "</div>"
      ],
      "text/plain": [
       "  molecule_chembl_id     IC50 units  \\\n",
       "0       CHEMBL435507   2400.0    nM   \n",
       "1        CHEMBL98350   2300.0    nM   \n",
       "2       CHEMBL104468  13000.0    nM   \n",
       "3       CHEMBL188678   5000.0    nM   \n",
       "4       CHEMBL379156    940.0    nM   \n",
       "5       CHEMBL428496      1.0    nM   \n",
       "6       CHEMBL437688    600.0    nM   \n",
       "7       CHEMBL209159    340.0    nM   \n",
       "8       CHEMBL211068   1000.0    nM   \n",
       "9       CHEMBL208696   1350.0    nM   \n",
       "\n",
       "                                              smiles  \n",
       "0                CC1CN(c2cc(=O)c3ccc4ccccc4c3o2)CCO1  \n",
       "1              O=c1cc(N2CCOCC2)oc2c(-c3ccccc3)cccc12  \n",
       "2                   O=c1cc(N2CCOCC2)oc2c1ccc1ccccc12  \n",
       "3   O=c1cc(N2CCOCC2)oc2c(-c3cccc4c3sc3ccccc34)cccc12  \n",
       "4          O=C1NC(=O)/C(=C/c2ccc(-c3ccc(F)cc3O)o2)S1  \n",
       "5  COC[C@H]1OC(=O)c2coc3c2[C@@]1(C)C1=C(C3=O)[C@@...  \n",
       "6  O=C1NC(=S)S/C1=C\\c1ccc(-c2cc([N+](=O)[O-])ccc2...  \n",
       "7       O=C1NC(=O)/C(=C/c2ccc(-c3cc(F)cc(F)c3O)s2)S1  \n",
       "8          O=C1NC(=O)/C(=C/c2ccc(-c3ccc(O)cc3F)o2)S1  \n",
       "9     O=C1NC(=O)/C(=C/c2ccc(-c3cc(C(=O)O)ccc3O)o2)S1  "
      ]
     },
     "execution_count": 55,
     "metadata": {},
     "output_type": "execute_result"
    }
   ],
   "source": [
    "# Merge DataFrames\n",
    "output_df = pd.merge(\n",
    "    bioactivities_df[[\"molecule_chembl_id\", \"IC50\", \"units\"]],\n",
    "    compounds_df,\n",
    "    on=\"molecule_chembl_id\",\n",
    ")\n",
    "\n",
    "# Reset row indices\n",
    "output_df.reset_index(drop=True, inplace=True)\n",
    "\n",
    "output_df.head(10)"
   ]
  },
  {
   "cell_type": "markdown",
   "id": "3387c9b9-4519-447f-a496-f4485e17f4eb",
   "metadata": {},
   "source": [
    "# Feature Engineering"
   ]
  },
  {
   "cell_type": "markdown",
   "id": "d289188a-8e51-4e0a-b6cc-1b767badac14",
   "metadata": {},
   "source": [
    "## Add pIC50 Values for Enhanced Visualization and Processing"
   ]
  },
  {
   "cell_type": "markdown",
   "id": "48031510-822c-42cb-9254-b1db728c2629",
   "metadata": {},
   "source": [
    "In this step, we augment our dataset by computing the pIC50 values for each compound. The pIC50 value is a logarithmic transformation of the IC50 value, which is commonly used in pharmacology to represent the potency of a compound as an inhibitor. By converting IC50 values to their corresponding pIC50 values, we enhance the interpretability and comparability of our data, particularly for compounds with varying potencies."
   ]
  },
  {
   "cell_type": "code",
   "execution_count": 65,
   "id": "089340c1-fcd0-4a2f-8602-f282966eaedd",
   "metadata": {},
   "outputs": [],
   "source": [
    "def convert_ic50_to_pic50(ic50_value):\n",
    "    \"\"\"\n",
    "    Convert IC50 value to pIC50 value.\n",
    "    \"\"\"\n",
    "    pic50_value = -math.log10(ic50_value * 10**-9) \n",
    "    return pic50_value"
   ]
  },
  {
   "cell_type": "code",
   "execution_count": 66,
   "id": "0abf495e-cef1-42bb-98a3-13efefcaece1",
   "metadata": {},
   "outputs": [],
   "source": [
    "# Apply conversion to each row of the compounds DataFrame\n",
    "output_df[\"pIC50\"] = output_df.apply(lambda x: convert_ic50_to_pic50(x.IC50), axis=1)"
   ]
  },
  {
   "cell_type": "code",
   "execution_count": 67,
   "id": "fc56ab17-375c-4d90-9f0a-5d89a44c662b",
   "metadata": {},
   "outputs": [
    {
     "data": {
      "text/html": [
       "<div>\n",
       "<style scoped>\n",
       "    .dataframe tbody tr th:only-of-type {\n",
       "        vertical-align: middle;\n",
       "    }\n",
       "\n",
       "    .dataframe tbody tr th {\n",
       "        vertical-align: top;\n",
       "    }\n",
       "\n",
       "    .dataframe thead th {\n",
       "        text-align: right;\n",
       "    }\n",
       "</style>\n",
       "<table border=\"1\" class=\"dataframe\">\n",
       "  <thead>\n",
       "    <tr style=\"text-align: right;\">\n",
       "      <th></th>\n",
       "      <th>molecule_chembl_id</th>\n",
       "      <th>IC50</th>\n",
       "      <th>units</th>\n",
       "      <th>smiles</th>\n",
       "      <th>pIC50</th>\n",
       "      <th>ROMol</th>\n",
       "    </tr>\n",
       "  </thead>\n",
       "  <tbody>\n",
       "    <tr>\n",
       "      <th>0</th>\n",
       "      <td>CHEMBL1236962</td>\n",
       "      <td>0.040</td>\n",
       "      <td>nM</td>\n",
       "      <td>COc1ncc(-c2ccc3nccc(-c4ccnnc4)c3c2)cc1NS(=O)(=...</td>\n",
       "      <td>10.397940</td>\n",
       "      <td>&lt;rdkit.Chem.rdchem.Mol object at 0x2af52ad53c10&gt;</td>\n",
       "    </tr>\n",
       "    <tr>\n",
       "      <th>1</th>\n",
       "      <td>CHEMBL3577914</td>\n",
       "      <td>0.070</td>\n",
       "      <td>nM</td>\n",
       "      <td>COc1ncc(-c2ccc3nc(N)nc(-c4ccncc4)c3c2)cc1NS(=O...</td>\n",
       "      <td>10.154902</td>\n",
       "      <td>&lt;rdkit.Chem.rdchem.Mol object at 0x2af52ad4e430&gt;</td>\n",
       "    </tr>\n",
       "    <tr>\n",
       "      <th>2</th>\n",
       "      <td>CHEMBL3577911</td>\n",
       "      <td>0.095</td>\n",
       "      <td>nM</td>\n",
       "      <td>COc1ncc(-c2ccc3ncnc(-c4ccncc4)c3c2)cc1NS(=O)(=...</td>\n",
       "      <td>10.022276</td>\n",
       "      <td>&lt;rdkit.Chem.rdchem.Mol object at 0x2af52ad4e580&gt;</td>\n",
       "    </tr>\n",
       "    <tr>\n",
       "      <th>3</th>\n",
       "      <td>CHEMBL3577908</td>\n",
       "      <td>0.100</td>\n",
       "      <td>nM</td>\n",
       "      <td>COc1ncc(-c2ccc3nccc(-c4ccncc4)c3c2)cc1NS(=O)(=...</td>\n",
       "      <td>10.000000</td>\n",
       "      <td>&lt;rdkit.Chem.rdchem.Mol object at 0x2af52ad4e6d0&gt;</td>\n",
       "    </tr>\n",
       "    <tr>\n",
       "      <th>4</th>\n",
       "      <td>CHEMBL4878958</td>\n",
       "      <td>0.130</td>\n",
       "      <td>nM</td>\n",
       "      <td>COc1ncc2cc1NS(=O)(=O)c1ccc(F)c(c1)C(=O)NCc1ccc...</td>\n",
       "      <td>9.886057</td>\n",
       "      <td>&lt;rdkit.Chem.rdchem.Mol object at 0x2af52ad86190&gt;</td>\n",
       "    </tr>\n",
       "  </tbody>\n",
       "</table>\n",
       "</div>"
      ],
      "text/plain": [
       "  molecule_chembl_id   IC50 units  \\\n",
       "0      CHEMBL1236962  0.040    nM   \n",
       "1      CHEMBL3577914  0.070    nM   \n",
       "2      CHEMBL3577911  0.095    nM   \n",
       "3      CHEMBL3577908  0.100    nM   \n",
       "4      CHEMBL4878958  0.130    nM   \n",
       "\n",
       "                                              smiles      pIC50  \\\n",
       "0  COc1ncc(-c2ccc3nccc(-c4ccnnc4)c3c2)cc1NS(=O)(=...  10.397940   \n",
       "1  COc1ncc(-c2ccc3nc(N)nc(-c4ccncc4)c3c2)cc1NS(=O...  10.154902   \n",
       "2  COc1ncc(-c2ccc3ncnc(-c4ccncc4)c3c2)cc1NS(=O)(=...  10.022276   \n",
       "3  COc1ncc(-c2ccc3nccc(-c4ccncc4)c3c2)cc1NS(=O)(=...  10.000000   \n",
       "4  COc1ncc2cc1NS(=O)(=O)c1ccc(F)c(c1)C(=O)NCc1ccc...   9.886057   \n",
       "\n",
       "                                              ROMol  \n",
       "0  <rdkit.Chem.rdchem.Mol object at 0x2af52ad53c10>  \n",
       "1  <rdkit.Chem.rdchem.Mol object at 0x2af52ad4e430>  \n",
       "2  <rdkit.Chem.rdchem.Mol object at 0x2af52ad4e580>  \n",
       "3  <rdkit.Chem.rdchem.Mol object at 0x2af52ad4e6d0>  \n",
       "4  <rdkit.Chem.rdchem.Mol object at 0x2af52ad86190>  "
      ]
     },
     "execution_count": 67,
     "metadata": {},
     "output_type": "execute_result"
    }
   ],
   "source": [
    "output_df.head()"
   ]
  },
  {
   "cell_type": "code",
   "execution_count": 68,
   "id": "8a5a5bea-8499-43d6-8753-f16226ffa70e",
   "metadata": {},
   "outputs": [],
   "source": [
    "# Add molecule column\n",
    "PandasTools.AddMoleculeColumnToFrame(output_df, smilesCol=\"smiles\")"
   ]
  },
  {
   "cell_type": "code",
   "execution_count": 69,
   "id": "c1bca755-08cf-48dc-9f65-7d16cd198f73",
   "metadata": {},
   "outputs": [],
   "source": [
    "# Sort molecules by pIC50\n",
    "output_df.sort_values(by=\"pIC50\", ascending=False, inplace=True)"
   ]
  },
  {
   "cell_type": "code",
   "execution_count": 70,
   "id": "60abb055-006c-4e64-b5a9-ec68a58038be",
   "metadata": {},
   "outputs": [
    {
     "data": {
      "text/html": [
       "<div>\n",
       "<style scoped>\n",
       "    .dataframe tbody tr th:only-of-type {\n",
       "        vertical-align: middle;\n",
       "    }\n",
       "\n",
       "    .dataframe tbody tr th {\n",
       "        vertical-align: top;\n",
       "    }\n",
       "\n",
       "    .dataframe thead th {\n",
       "        text-align: right;\n",
       "    }\n",
       "</style>\n",
       "<table border=\"1\" class=\"dataframe\">\n",
       "  <thead>\n",
       "    <tr style=\"text-align: right;\">\n",
       "      <th></th>\n",
       "      <th>molecule_chembl_id</th>\n",
       "      <th>IC50</th>\n",
       "      <th>units</th>\n",
       "      <th>smiles</th>\n",
       "      <th>pIC50</th>\n",
       "      <th>ROMol</th>\n",
       "    </tr>\n",
       "  </thead>\n",
       "  <tbody>\n",
       "    <tr>\n",
       "      <th>0</th>\n",
       "      <td>CHEMBL1236962</td>\n",
       "      <td>0.040</td>\n",
       "      <td>nM</td>\n",
       "      <td>COc1ncc(-c2ccc3nccc(-c4ccnnc4)c3c2)cc1NS(=O)(=...</td>\n",
       "      <td>10.397940</td>\n",
       "      <td>&lt;rdkit.Chem.rdchem.Mol object at 0x2af52ad8d5f0&gt;</td>\n",
       "    </tr>\n",
       "    <tr>\n",
       "      <th>1</th>\n",
       "      <td>CHEMBL3577914</td>\n",
       "      <td>0.070</td>\n",
       "      <td>nM</td>\n",
       "      <td>COc1ncc(-c2ccc3nc(N)nc(-c4ccncc4)c3c2)cc1NS(=O...</td>\n",
       "      <td>10.154902</td>\n",
       "      <td>&lt;rdkit.Chem.rdchem.Mol object at 0x2af52ad8deb0&gt;</td>\n",
       "    </tr>\n",
       "    <tr>\n",
       "      <th>2</th>\n",
       "      <td>CHEMBL3577911</td>\n",
       "      <td>0.095</td>\n",
       "      <td>nM</td>\n",
       "      <td>COc1ncc(-c2ccc3ncnc(-c4ccncc4)c3c2)cc1NS(=O)(=...</td>\n",
       "      <td>10.022276</td>\n",
       "      <td>&lt;rdkit.Chem.rdchem.Mol object at 0x2af52ada52e0&gt;</td>\n",
       "    </tr>\n",
       "    <tr>\n",
       "      <th>3</th>\n",
       "      <td>CHEMBL3577908</td>\n",
       "      <td>0.100</td>\n",
       "      <td>nM</td>\n",
       "      <td>COc1ncc(-c2ccc3nccc(-c4ccncc4)c3c2)cc1NS(=O)(=...</td>\n",
       "      <td>10.000000</td>\n",
       "      <td>&lt;rdkit.Chem.rdchem.Mol object at 0x2af52ada5350&gt;</td>\n",
       "    </tr>\n",
       "    <tr>\n",
       "      <th>4</th>\n",
       "      <td>CHEMBL4878958</td>\n",
       "      <td>0.130</td>\n",
       "      <td>nM</td>\n",
       "      <td>COc1ncc2cc1NS(=O)(=O)c1ccc(F)c(c1)C(=O)NCc1ccc...</td>\n",
       "      <td>9.886057</td>\n",
       "      <td>&lt;rdkit.Chem.rdchem.Mol object at 0x2af52ada53c0&gt;</td>\n",
       "    </tr>\n",
       "    <tr>\n",
       "      <th>5</th>\n",
       "      <td>CHEMBL3660111</td>\n",
       "      <td>0.140</td>\n",
       "      <td>nM</td>\n",
       "      <td>CCc1ncnc(N2CCN(S(C)(=O)=O)CC2)c1C#Cc1cnc(C)c(N...</td>\n",
       "      <td>9.853872</td>\n",
       "      <td>&lt;rdkit.Chem.rdchem.Mol object at 0x2af52ada5120&gt;</td>\n",
       "    </tr>\n",
       "    <tr>\n",
       "      <th>6</th>\n",
       "      <td>CHEMBL3577927</td>\n",
       "      <td>0.150</td>\n",
       "      <td>nM</td>\n",
       "      <td>O=S(=O)(Nc1cc(-c2cc3c(-c4ccncc4)ncnc3s2)cnc1Cl...</td>\n",
       "      <td>9.823909</td>\n",
       "      <td>&lt;rdkit.Chem.rdchem.Mol object at 0x2af52ada50b0&gt;</td>\n",
       "    </tr>\n",
       "    <tr>\n",
       "      <th>7</th>\n",
       "      <td>CHEMBL3660114</td>\n",
       "      <td>0.200</td>\n",
       "      <td>nM</td>\n",
       "      <td>Cc1ncc(C#Cc2c(C)ncnc2N2CCOC[C@@H]2C)cc1NS(=O)(...</td>\n",
       "      <td>9.698970</td>\n",
       "      <td>&lt;rdkit.Chem.rdchem.Mol object at 0x2af52ada5190&gt;</td>\n",
       "    </tr>\n",
       "    <tr>\n",
       "      <th>8</th>\n",
       "      <td>CHEMBL1082618</td>\n",
       "      <td>0.200</td>\n",
       "      <td>nM</td>\n",
       "      <td>COc1ccc2[nH]c(-c3c(C)nn(C)c3C)c(/C=C3/Oc4ccc(N...</td>\n",
       "      <td>9.698970</td>\n",
       "      <td>&lt;rdkit.Chem.rdchem.Mol object at 0x2af52ada5200&gt;</td>\n",
       "    </tr>\n",
       "    <tr>\n",
       "      <th>9</th>\n",
       "      <td>CHEMBL1808977</td>\n",
       "      <td>0.200</td>\n",
       "      <td>nM</td>\n",
       "      <td>CN(C)CCN(C)C(=O)c1ccc(NC(=O)Nc2ccc(-c3nc(O[C@H...</td>\n",
       "      <td>9.698970</td>\n",
       "      <td>&lt;rdkit.Chem.rdchem.Mol object at 0x2af52ada5430&gt;</td>\n",
       "    </tr>\n",
       "  </tbody>\n",
       "</table>\n",
       "</div>"
      ],
      "text/plain": [
       "  molecule_chembl_id   IC50 units  \\\n",
       "0      CHEMBL1236962  0.040    nM   \n",
       "1      CHEMBL3577914  0.070    nM   \n",
       "2      CHEMBL3577911  0.095    nM   \n",
       "3      CHEMBL3577908  0.100    nM   \n",
       "4      CHEMBL4878958  0.130    nM   \n",
       "5      CHEMBL3660111  0.140    nM   \n",
       "6      CHEMBL3577927  0.150    nM   \n",
       "7      CHEMBL3660114  0.200    nM   \n",
       "8      CHEMBL1082618  0.200    nM   \n",
       "9      CHEMBL1808977  0.200    nM   \n",
       "\n",
       "                                              smiles      pIC50  \\\n",
       "0  COc1ncc(-c2ccc3nccc(-c4ccnnc4)c3c2)cc1NS(=O)(=...  10.397940   \n",
       "1  COc1ncc(-c2ccc3nc(N)nc(-c4ccncc4)c3c2)cc1NS(=O...  10.154902   \n",
       "2  COc1ncc(-c2ccc3ncnc(-c4ccncc4)c3c2)cc1NS(=O)(=...  10.022276   \n",
       "3  COc1ncc(-c2ccc3nccc(-c4ccncc4)c3c2)cc1NS(=O)(=...  10.000000   \n",
       "4  COc1ncc2cc1NS(=O)(=O)c1ccc(F)c(c1)C(=O)NCc1ccc...   9.886057   \n",
       "5  CCc1ncnc(N2CCN(S(C)(=O)=O)CC2)c1C#Cc1cnc(C)c(N...   9.853872   \n",
       "6  O=S(=O)(Nc1cc(-c2cc3c(-c4ccncc4)ncnc3s2)cnc1Cl...   9.823909   \n",
       "7  Cc1ncc(C#Cc2c(C)ncnc2N2CCOC[C@@H]2C)cc1NS(=O)(...   9.698970   \n",
       "8  COc1ccc2[nH]c(-c3c(C)nn(C)c3C)c(/C=C3/Oc4ccc(N...   9.698970   \n",
       "9  CN(C)CCN(C)C(=O)c1ccc(NC(=O)Nc2ccc(-c3nc(O[C@H...   9.698970   \n",
       "\n",
       "                                              ROMol  \n",
       "0  <rdkit.Chem.rdchem.Mol object at 0x2af52ad8d5f0>  \n",
       "1  <rdkit.Chem.rdchem.Mol object at 0x2af52ad8deb0>  \n",
       "2  <rdkit.Chem.rdchem.Mol object at 0x2af52ada52e0>  \n",
       "3  <rdkit.Chem.rdchem.Mol object at 0x2af52ada5350>  \n",
       "4  <rdkit.Chem.rdchem.Mol object at 0x2af52ada53c0>  \n",
       "5  <rdkit.Chem.rdchem.Mol object at 0x2af52ada5120>  \n",
       "6  <rdkit.Chem.rdchem.Mol object at 0x2af52ada50b0>  \n",
       "7  <rdkit.Chem.rdchem.Mol object at 0x2af52ada5190>  \n",
       "8  <rdkit.Chem.rdchem.Mol object at 0x2af52ada5200>  \n",
       "9  <rdkit.Chem.rdchem.Mol object at 0x2af52ada5430>  "
      ]
     },
     "execution_count": 70,
     "metadata": {},
     "output_type": "execute_result"
    }
   ],
   "source": [
    "# Reset index\n",
    "output_df.reset_index(drop=True, inplace=True)\n",
    "output_df.head(10)"
   ]
  },
  {
   "cell_type": "code",
   "execution_count": 71,
   "id": "fca11a01-d25d-4f8f-ad0f-06b4d40b28fe",
   "metadata": {},
   "outputs": [],
   "source": [
    "output_df.to_csv(\"data/PIK3CA_compounds.csv\")\n"
   ]
  },
  {
   "cell_type": "code",
   "execution_count": null,
   "id": "8067ab4e-1e3e-4651-b702-43aaf9b1bd5f",
   "metadata": {},
   "outputs": [],
   "source": []
  }
 ],
 "metadata": {
  "kernelspec": {
   "display_name": "Python 3",
   "language": "python",
   "name": "python3"
  },
  "language_info": {
   "codemirror_mode": {
    "name": "ipython",
    "version": 3
   },
   "file_extension": ".py",
   "mimetype": "text/x-python",
   "name": "python",
   "nbconvert_exporter": "python",
   "pygments_lexer": "ipython3",
   "version": "3.8.8"
  }
 },
 "nbformat": 4,
 "nbformat_minor": 5
}
